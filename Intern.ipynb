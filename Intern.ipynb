{
 "cells": [
  {
   "cell_type": "code",
   "execution_count": 32,
   "id": "4b4334db",
   "metadata": {},
   "outputs": [
    {
     "name": "stdout",
     "output_type": "stream",
     "text": [
      "Collecting pandas-profiling\n",
      "  Downloading pandas_profiling-3.6.6-py2.py3-none-any.whl (324 kB)\n",
      "     -------------------------------------- 324.4/324.4 kB 1.7 MB/s eta 0:00:00\n",
      "Collecting ydata-profiling\n",
      "  Downloading ydata_profiling-4.3.2-py2.py3-none-any.whl (352 kB)\n",
      "     -------------------------------------- 353.0/353.0 kB 1.6 MB/s eta 0:00:00\n",
      "Collecting htmlmin==0.1.12\n",
      "  Downloading htmlmin-0.1.12.tar.gz (19 kB)\n",
      "  Preparing metadata (setup.py): started\n",
      "  Preparing metadata (setup.py): finished with status 'done'\n",
      "Collecting pydantic<2,>=1.8.1\n",
      "  Downloading pydantic-1.10.12-cp39-cp39-win_amd64.whl (2.2 MB)\n",
      "     ---------------------------------------- 2.2/2.2 MB 1.8 MB/s eta 0:00:00\n",
      "Collecting typeguard<3,>=2.13.2\n",
      "  Downloading typeguard-2.13.3-py3-none-any.whl (17 kB)\n",
      "Collecting multimethod<2,>=1.4\n",
      "  Downloading multimethod-1.9.1-py3-none-any.whl (10 kB)\n",
      "Collecting imagehash==4.3.1\n",
      "  Downloading ImageHash-4.3.1-py2.py3-none-any.whl (296 kB)\n",
      "     -------------------------------------- 296.5/296.5 kB 1.8 MB/s eta 0:00:00\n",
      "Requirement already satisfied: jinja2<3.2,>=2.11.1 in c:\\users\\soumapriyo mondal\\anaconda3\\lib\\site-packages (from ydata-profiling->pandas-profiling) (3.1.2)\n",
      "Requirement already satisfied: wordcloud>=1.9.1 in c:\\users\\soumapriyo mondal\\anaconda3\\lib\\site-packages (from ydata-profiling->pandas-profiling) (1.9.2)\n",
      "Requirement already satisfied: requests<3,>=2.24.0 in c:\\users\\soumapriyo mondal\\anaconda3\\lib\\site-packages (from ydata-profiling->pandas-profiling) (2.28.1)\n",
      "Requirement already satisfied: statsmodels<1,>=0.13.2 in c:\\users\\soumapriyo mondal\\anaconda3\\lib\\site-packages (from ydata-profiling->pandas-profiling) (0.13.2)\n",
      "Collecting visions[type_image_path]==0.7.5\n",
      "  Downloading visions-0.7.5-py3-none-any.whl (102 kB)\n",
      "     -------------------------------------- 102.7/102.7 kB 1.5 MB/s eta 0:00:00\n",
      "Requirement already satisfied: matplotlib<4,>=3.2 in c:\\users\\soumapriyo mondal\\anaconda3\\lib\\site-packages (from ydata-profiling->pandas-profiling) (3.5.2)\n",
      "Collecting phik<0.13,>=0.11.1\n",
      "  Downloading phik-0.12.3-cp39-cp39-win_amd64.whl (663 kB)\n",
      "     -------------------------------------- 663.5/663.5 kB 1.8 MB/s eta 0:00:00\n",
      "Requirement already satisfied: PyYAML<6.1,>=5.0.0 in c:\\users\\soumapriyo mondal\\anaconda3\\lib\\site-packages (from ydata-profiling->pandas-profiling) (6.0)\n",
      "Requirement already satisfied: numpy<1.24,>=1.16.0 in c:\\users\\soumapriyo mondal\\anaconda3\\lib\\site-packages (from ydata-profiling->pandas-profiling) (1.21.5)\n",
      "Collecting dacite>=1.8\n",
      "  Downloading dacite-1.8.1-py3-none-any.whl (14 kB)\n",
      "Requirement already satisfied: scipy<1.11,>=1.4.1 in c:\\users\\soumapriyo mondal\\anaconda3\\lib\\site-packages (from ydata-profiling->pandas-profiling) (1.9.1)\n",
      "Requirement already satisfied: pandas!=1.4.0,<2.1,>1.1 in c:\\users\\soumapriyo mondal\\anaconda3\\lib\\site-packages (from ydata-profiling->pandas-profiling) (1.4.4)\n",
      "Requirement already satisfied: tqdm<5,>=4.48.2 in c:\\users\\soumapriyo mondal\\anaconda3\\lib\\site-packages (from ydata-profiling->pandas-profiling) (4.64.1)\n",
      "Requirement already satisfied: seaborn<0.13,>=0.10.1 in c:\\users\\soumapriyo mondal\\anaconda3\\lib\\site-packages (from ydata-profiling->pandas-profiling) (0.11.2)\n",
      "Requirement already satisfied: PyWavelets in c:\\users\\soumapriyo mondal\\anaconda3\\lib\\site-packages (from imagehash==4.3.1->ydata-profiling->pandas-profiling) (1.3.0)\n",
      "Requirement already satisfied: pillow in c:\\users\\soumapriyo mondal\\anaconda3\\lib\\site-packages (from imagehash==4.3.1->ydata-profiling->pandas-profiling) (9.2.0)\n",
      "Requirement already satisfied: networkx>=2.4 in c:\\users\\soumapriyo mondal\\anaconda3\\lib\\site-packages (from visions[type_image_path]==0.7.5->ydata-profiling->pandas-profiling) (2.8.4)\n",
      "Requirement already satisfied: attrs>=19.3.0 in c:\\users\\soumapriyo mondal\\anaconda3\\lib\\site-packages (from visions[type_image_path]==0.7.5->ydata-profiling->pandas-profiling) (21.4.0)\n",
      "Collecting tangled-up-in-unicode>=0.0.4\n",
      "  Downloading tangled_up_in_unicode-0.2.0-py3-none-any.whl (4.7 MB)\n",
      "     ---------------------------------------- 4.7/4.7 MB 1.5 MB/s eta 0:00:00\n",
      "Requirement already satisfied: MarkupSafe>=2.0 in c:\\users\\soumapriyo mondal\\anaconda3\\lib\\site-packages (from jinja2<3.2,>=2.11.1->ydata-profiling->pandas-profiling) (2.1.2)\n",
      "Requirement already satisfied: kiwisolver>=1.0.1 in c:\\users\\soumapriyo mondal\\anaconda3\\lib\\site-packages (from matplotlib<4,>=3.2->ydata-profiling->pandas-profiling) (1.4.2)\n",
      "Requirement already satisfied: fonttools>=4.22.0 in c:\\users\\soumapriyo mondal\\anaconda3\\lib\\site-packages (from matplotlib<4,>=3.2->ydata-profiling->pandas-profiling) (4.25.0)\n",
      "Requirement already satisfied: python-dateutil>=2.7 in c:\\users\\soumapriyo mondal\\anaconda3\\lib\\site-packages (from matplotlib<4,>=3.2->ydata-profiling->pandas-profiling) (2.8.2)\n",
      "Requirement already satisfied: pyparsing>=2.2.1 in c:\\users\\soumapriyo mondal\\anaconda3\\lib\\site-packages (from matplotlib<4,>=3.2->ydata-profiling->pandas-profiling) (3.0.9)\n",
      "Requirement already satisfied: packaging>=20.0 in c:\\users\\soumapriyo mondal\\anaconda3\\lib\\site-packages (from matplotlib<4,>=3.2->ydata-profiling->pandas-profiling) (21.3)\n",
      "Requirement already satisfied: cycler>=0.10 in c:\\users\\soumapriyo mondal\\anaconda3\\lib\\site-packages (from matplotlib<4,>=3.2->ydata-profiling->pandas-profiling) (0.11.0)\n",
      "Requirement already satisfied: pytz>=2020.1 in c:\\users\\soumapriyo mondal\\anaconda3\\lib\\site-packages (from pandas!=1.4.0,<2.1,>1.1->ydata-profiling->pandas-profiling) (2022.1)\n",
      "Requirement already satisfied: joblib>=0.14.1 in c:\\users\\soumapriyo mondal\\anaconda3\\lib\\site-packages (from phik<0.13,>=0.11.1->ydata-profiling->pandas-profiling) (1.1.0)\n",
      "Requirement already satisfied: typing-extensions>=4.2.0 in c:\\users\\soumapriyo mondal\\anaconda3\\lib\\site-packages (from pydantic<2,>=1.8.1->ydata-profiling->pandas-profiling) (4.5.0)\n",
      "Requirement already satisfied: idna<4,>=2.5 in c:\\users\\soumapriyo mondal\\anaconda3\\lib\\site-packages (from requests<3,>=2.24.0->ydata-profiling->pandas-profiling) (3.3)\n",
      "Requirement already satisfied: urllib3<1.27,>=1.21.1 in c:\\users\\soumapriyo mondal\\anaconda3\\lib\\site-packages (from requests<3,>=2.24.0->ydata-profiling->pandas-profiling) (1.26.11)\n",
      "Requirement already satisfied: charset-normalizer<3,>=2 in c:\\users\\soumapriyo mondal\\anaconda3\\lib\\site-packages (from requests<3,>=2.24.0->ydata-profiling->pandas-profiling) (2.0.4)\n",
      "Requirement already satisfied: certifi>=2017.4.17 in c:\\users\\soumapriyo mondal\\anaconda3\\lib\\site-packages (from requests<3,>=2.24.0->ydata-profiling->pandas-profiling) (2022.9.14)\n",
      "Requirement already satisfied: patsy>=0.5.2 in c:\\users\\soumapriyo mondal\\anaconda3\\lib\\site-packages (from statsmodels<1,>=0.13.2->ydata-profiling->pandas-profiling) (0.5.2)\n",
      "Requirement already satisfied: colorama in c:\\users\\soumapriyo mondal\\anaconda3\\lib\\site-packages (from tqdm<5,>=4.48.2->ydata-profiling->pandas-profiling) (0.4.6)\n",
      "Requirement already satisfied: six in c:\\users\\soumapriyo mondal\\anaconda3\\lib\\site-packages (from patsy>=0.5.2->statsmodels<1,>=0.13.2->ydata-profiling->pandas-profiling) (1.16.0)\n",
      "Building wheels for collected packages: htmlmin\n",
      "  Building wheel for htmlmin (setup.py): started\n",
      "  Building wheel for htmlmin (setup.py): finished with status 'done'\n",
      "  Created wheel for htmlmin: filename=htmlmin-0.1.12-py3-none-any.whl size=27082 sha256=c37501807ef423dc06fc618f0bd65cd6ffe282dd7a2def052401282e15eda01a\n",
      "  Stored in directory: c:\\users\\soumapriyo mondal\\appdata\\local\\pip\\cache\\wheels\\1d\\05\\04\\c6d7d3b66539d9e659ac6dfe81e2d0fd4c1a8316cc5a403300\n",
      "Successfully built htmlmin\n",
      "Installing collected packages: htmlmin, typeguard, tangled-up-in-unicode, pydantic, multimethod, dacite, imagehash, visions, phik, ydata-profiling, pandas-profiling\n",
      "Successfully installed dacite-1.8.1 htmlmin-0.1.12 imagehash-4.3.1 multimethod-1.9.1 pandas-profiling-3.6.6 phik-0.12.3 pydantic-1.10.12 tangled-up-in-unicode-0.2.0 typeguard-2.13.3 visions-0.7.5 ydata-profiling-4.3.2\n",
      "Note: you may need to restart the kernel to use updated packages.\n"
     ]
    }
   ],
   "source": [
    "pip install pandas-profiling"
   ]
  },
  {
   "cell_type": "code",
   "execution_count": 1,
   "id": "d709ba00",
   "metadata": {},
   "outputs": [],
   "source": [
    "import pandas as pd\n",
    "import numpy as np\n",
    "import matplotlib.pyplot as plt \n",
    "import seaborn as sns\n",
    "sns.set_theme()\n",
    "import re\n",
    "# Load datasets\n",
    "user_interactions_df = pd.read_csv('user_interactions.csv')\n",
    "purchase_data_df = pd.read_csv('purchase_data.csv')\n",
    "website_performance_df = pd.read_csv('website_performance.csv')"
   ]
  },
  {
   "cell_type": "markdown",
   "id": "18271170",
   "metadata": {},
   "source": [
    "## Data Exploration"
   ]
  },
  {
   "cell_type": "code",
   "execution_count": 2,
   "id": "2afd378a",
   "metadata": {},
   "outputs": [
    {
     "data": {
      "text/html": [
       "<div>\n",
       "<style scoped>\n",
       "    .dataframe tbody tr th:only-of-type {\n",
       "        vertical-align: middle;\n",
       "    }\n",
       "\n",
       "    .dataframe tbody tr th {\n",
       "        vertical-align: top;\n",
       "    }\n",
       "\n",
       "    .dataframe thead th {\n",
       "        text-align: right;\n",
       "    }\n",
       "</style>\n",
       "<table border=\"1\" class=\"dataframe\">\n",
       "  <thead>\n",
       "    <tr style=\"text-align: right;\">\n",
       "      <th></th>\n",
       "      <th>User_ID</th>\n",
       "      <th>Page_Viewed</th>\n",
       "      <th>Time_Spent_Seconds</th>\n",
       "    </tr>\n",
       "  </thead>\n",
       "  <tbody>\n",
       "    <tr>\n",
       "      <th>0</th>\n",
       "      <td>User_3198</td>\n",
       "      <td>Homepage</td>\n",
       "      <td>560</td>\n",
       "    </tr>\n",
       "    <tr>\n",
       "      <th>1</th>\n",
       "      <td>User_126</td>\n",
       "      <td>Category Page</td>\n",
       "      <td>168</td>\n",
       "    </tr>\n",
       "    <tr>\n",
       "      <th>2</th>\n",
       "      <td>User_1376</td>\n",
       "      <td>Category Page</td>\n",
       "      <td>122</td>\n",
       "    </tr>\n",
       "    <tr>\n",
       "      <th>3</th>\n",
       "      <td>User_1117</td>\n",
       "      <td>Cart Page</td>\n",
       "      <td>329</td>\n",
       "    </tr>\n",
       "    <tr>\n",
       "      <th>4</th>\n",
       "      <td>User_3683</td>\n",
       "      <td>Category Page</td>\n",
       "      <td>391</td>\n",
       "    </tr>\n",
       "  </tbody>\n",
       "</table>\n",
       "</div>"
      ],
      "text/plain": [
       "     User_ID    Page_Viewed  Time_Spent_Seconds\n",
       "0  User_3198       Homepage                 560\n",
       "1   User_126  Category Page                 168\n",
       "2  User_1376  Category Page                 122\n",
       "3  User_1117      Cart Page                 329\n",
       "4  User_3683  Category Page                 391"
      ]
     },
     "execution_count": 2,
     "metadata": {},
     "output_type": "execute_result"
    }
   ],
   "source": [
    "user_interactions_df.head()"
   ]
  },
  {
   "cell_type": "code",
   "execution_count": 3,
   "id": "b5a935c1",
   "metadata": {},
   "outputs": [
    {
     "data": {
      "text/html": [
       "<div>\n",
       "<style scoped>\n",
       "    .dataframe tbody tr th:only-of-type {\n",
       "        vertical-align: middle;\n",
       "    }\n",
       "\n",
       "    .dataframe tbody tr th {\n",
       "        vertical-align: top;\n",
       "    }\n",
       "\n",
       "    .dataframe thead th {\n",
       "        text-align: right;\n",
       "    }\n",
       "</style>\n",
       "<table border=\"1\" class=\"dataframe\">\n",
       "  <thead>\n",
       "    <tr style=\"text-align: right;\">\n",
       "      <th></th>\n",
       "      <th>Purchase_ID</th>\n",
       "      <th>User_ID</th>\n",
       "      <th>Product_ID</th>\n",
       "      <th>Transaction_Amount</th>\n",
       "      <th>Purchase_Time</th>\n",
       "    </tr>\n",
       "  </thead>\n",
       "  <tbody>\n",
       "    <tr>\n",
       "      <th>0</th>\n",
       "      <td>Purchase_948</td>\n",
       "      <td>User_3840</td>\n",
       "      <td>Product_19</td>\n",
       "      <td>62.843031</td>\n",
       "      <td>2023-04-02 16:35:46</td>\n",
       "    </tr>\n",
       "    <tr>\n",
       "      <th>1</th>\n",
       "      <td>Purchase_905</td>\n",
       "      <td>User_1846</td>\n",
       "      <td>Product_9</td>\n",
       "      <td>21.780079</td>\n",
       "      <td>2023-04-14 16:38:27</td>\n",
       "    </tr>\n",
       "    <tr>\n",
       "      <th>2</th>\n",
       "      <td>Purchase_704</td>\n",
       "      <td>User_1700</td>\n",
       "      <td>Product_8</td>\n",
       "      <td>138.264455</td>\n",
       "      <td>2023-01-21 11:21:31</td>\n",
       "    </tr>\n",
       "    <tr>\n",
       "      <th>3</th>\n",
       "      <td>Purchase_766</td>\n",
       "      <td>User_4117</td>\n",
       "      <td>Product_15</td>\n",
       "      <td>74.991367</td>\n",
       "      <td>2023-01-29 04:44:04</td>\n",
       "    </tr>\n",
       "    <tr>\n",
       "      <th>4</th>\n",
       "      <td>Purchase_36</td>\n",
       "      <td>User_3053</td>\n",
       "      <td>Product_7</td>\n",
       "      <td>162.569998</td>\n",
       "      <td>2023-05-24 03:30:23</td>\n",
       "    </tr>\n",
       "  </tbody>\n",
       "</table>\n",
       "</div>"
      ],
      "text/plain": [
       "    Purchase_ID    User_ID  Product_ID  Transaction_Amount  \\\n",
       "0  Purchase_948  User_3840  Product_19           62.843031   \n",
       "1  Purchase_905  User_1846   Product_9           21.780079   \n",
       "2  Purchase_704  User_1700   Product_8          138.264455   \n",
       "3  Purchase_766  User_4117  Product_15           74.991367   \n",
       "4   Purchase_36  User_3053   Product_7          162.569998   \n",
       "\n",
       "         Purchase_Time  \n",
       "0  2023-04-02 16:35:46  \n",
       "1  2023-04-14 16:38:27  \n",
       "2  2023-01-21 11:21:31  \n",
       "3  2023-01-29 04:44:04  \n",
       "4  2023-05-24 03:30:23  "
      ]
     },
     "execution_count": 3,
     "metadata": {},
     "output_type": "execute_result"
    }
   ],
   "source": [
    "purchase_data_df.head()"
   ]
  },
  {
   "cell_type": "code",
   "execution_count": 4,
   "id": "78c0530a",
   "metadata": {},
   "outputs": [
    {
     "data": {
      "text/html": [
       "<div>\n",
       "<style scoped>\n",
       "    .dataframe tbody tr th:only-of-type {\n",
       "        vertical-align: middle;\n",
       "    }\n",
       "\n",
       "    .dataframe tbody tr th {\n",
       "        vertical-align: top;\n",
       "    }\n",
       "\n",
       "    .dataframe thead th {\n",
       "        text-align: right;\n",
       "    }\n",
       "</style>\n",
       "<table border=\"1\" class=\"dataframe\">\n",
       "  <thead>\n",
       "    <tr style=\"text-align: right;\">\n",
       "      <th></th>\n",
       "      <th>Month</th>\n",
       "      <th>Page_Load_Time</th>\n",
       "      <th>Bounce_Rate</th>\n",
       "      <th>Conversion_Rate</th>\n",
       "    </tr>\n",
       "  </thead>\n",
       "  <tbody>\n",
       "    <tr>\n",
       "      <th>0</th>\n",
       "      <td>2023-01-01</td>\n",
       "      <td>5.106652</td>\n",
       "      <td>0.514345</td>\n",
       "      <td>0.047375</td>\n",
       "    </tr>\n",
       "    <tr>\n",
       "      <th>1</th>\n",
       "      <td>2023-02-01</td>\n",
       "      <td>7.828199</td>\n",
       "      <td>0.317157</td>\n",
       "      <td>0.062764</td>\n",
       "    </tr>\n",
       "    <tr>\n",
       "      <th>2</th>\n",
       "      <td>2023-03-01</td>\n",
       "      <td>3.239983</td>\n",
       "      <td>0.480903</td>\n",
       "      <td>0.050514</td>\n",
       "    </tr>\n",
       "    <tr>\n",
       "      <th>3</th>\n",
       "      <td>2023-04-01</td>\n",
       "      <td>5.954509</td>\n",
       "      <td>0.473572</td>\n",
       "      <td>0.057151</td>\n",
       "    </tr>\n",
       "    <tr>\n",
       "      <th>4</th>\n",
       "      <td>2023-05-01</td>\n",
       "      <td>9.872398</td>\n",
       "      <td>0.542407</td>\n",
       "      <td>0.089525</td>\n",
       "    </tr>\n",
       "  </tbody>\n",
       "</table>\n",
       "</div>"
      ],
      "text/plain": [
       "        Month  Page_Load_Time  Bounce_Rate  Conversion_Rate\n",
       "0  2023-01-01        5.106652     0.514345         0.047375\n",
       "1  2023-02-01        7.828199     0.317157         0.062764\n",
       "2  2023-03-01        3.239983     0.480903         0.050514\n",
       "3  2023-04-01        5.954509     0.473572         0.057151\n",
       "4  2023-05-01        9.872398     0.542407         0.089525"
      ]
     },
     "execution_count": 4,
     "metadata": {},
     "output_type": "execute_result"
    }
   ],
   "source": [
    "website_performance_df.head()"
   ]
  },
  {
   "cell_type": "code",
   "execution_count": 5,
   "id": "c6083c7f",
   "metadata": {},
   "outputs": [
    {
     "name": "stdout",
     "output_type": "stream",
     "text": [
      "<class 'pandas.core.frame.DataFrame'>\n",
      "RangeIndex: 5000 entries, 0 to 4999\n",
      "Data columns (total 3 columns):\n",
      " #   Column              Non-Null Count  Dtype \n",
      "---  ------              --------------  ----- \n",
      " 0   User_ID             5000 non-null   object\n",
      " 1   Page_Viewed         5000 non-null   object\n",
      " 2   Time_Spent_Seconds  5000 non-null   int64 \n",
      "dtypes: int64(1), object(2)\n",
      "memory usage: 117.3+ KB\n",
      "None\n",
      "       Time_Spent_Seconds\n",
      "count         5000.000000\n",
      "mean           304.508800\n",
      "std            168.978666\n",
      "min             10.000000\n",
      "25%            160.000000\n",
      "50%            301.000000\n",
      "75%            452.000000\n",
      "max            599.000000\n",
      "\n",
      "<class 'pandas.core.frame.DataFrame'>\n",
      "RangeIndex: 1000 entries, 0 to 999\n",
      "Data columns (total 5 columns):\n",
      " #   Column              Non-Null Count  Dtype  \n",
      "---  ------              --------------  -----  \n",
      " 0   Purchase_ID         1000 non-null   object \n",
      " 1   User_ID             1000 non-null   object \n",
      " 2   Product_ID          1000 non-null   object \n",
      " 3   Transaction_Amount  1000 non-null   float64\n",
      " 4   Purchase_Time       1000 non-null   object \n",
      "dtypes: float64(1), object(4)\n",
      "memory usage: 39.2+ KB\n",
      "None\n",
      "       Transaction_Amount\n",
      "count         1000.000000\n",
      "mean           106.348744\n",
      "std             55.951244\n",
      "min             10.429825\n",
      "25%             58.426058\n",
      "50%            102.950857\n",
      "75%            157.533495\n",
      "max            199.961345\n",
      "\n",
      "<class 'pandas.core.frame.DataFrame'>\n",
      "RangeIndex: 12 entries, 0 to 11\n",
      "Data columns (total 4 columns):\n",
      " #   Column           Non-Null Count  Dtype  \n",
      "---  ------           --------------  -----  \n",
      " 0   Month            12 non-null     object \n",
      " 1   Page_Load_Time   12 non-null     float64\n",
      " 2   Bounce_Rate      12 non-null     float64\n",
      " 3   Conversion_Rate  12 non-null     float64\n",
      "dtypes: float64(3), object(1)\n",
      "memory usage: 512.0+ bytes\n",
      "None\n",
      "       Page_Load_Time  Bounce_Rate  Conversion_Rate\n",
      "count       12.000000    12.000000        12.000000\n",
      "mean         5.866266     0.452650         0.060056\n",
      "std          2.288288     0.086482         0.014993\n",
      "min          2.468395     0.301692         0.038263\n",
      "25%          4.165375     0.389651         0.048626\n",
      "50%          5.621936     0.477238         0.059957\n",
      "75%          7.457142     0.517399         0.065832\n",
      "max          9.872398     0.566843         0.089525\n",
      "\n"
     ]
    }
   ],
   "source": [
    "print(user_interactions_df.info())\n",
    "print(user_interactions_df.describe())\n",
    "print()\n",
    "# Explore the purchase_data dataset\n",
    "print(purchase_data_df.info())\n",
    "print(purchase_data_df.describe())\n",
    "print()\n",
    "# Explore the website_performance dataset\n",
    "print(website_performance_df.info())\n",
    "print(website_performance_df.describe())\n",
    "print()"
   ]
  },
  {
   "cell_type": "markdown",
   "id": "b22a5103",
   "metadata": {},
   "source": [
    "### Check for missing values"
   ]
  },
  {
   "cell_type": "code",
   "execution_count": 6,
   "id": "23d58d1d",
   "metadata": {},
   "outputs": [
    {
     "data": {
      "text/plain": [
       "User_ID               0\n",
       "Page_Viewed           0\n",
       "Time_Spent_Seconds    0\n",
       "dtype: int64"
      ]
     },
     "execution_count": 6,
     "metadata": {},
     "output_type": "execute_result"
    }
   ],
   "source": [
    "user_interactions_df.isnull().sum()"
   ]
  },
  {
   "cell_type": "code",
   "execution_count": 7,
   "id": "2ea6b99d",
   "metadata": {},
   "outputs": [
    {
     "data": {
      "text/plain": [
       "Purchase_ID           0\n",
       "User_ID               0\n",
       "Product_ID            0\n",
       "Transaction_Amount    0\n",
       "Purchase_Time         0\n",
       "dtype: int64"
      ]
     },
     "execution_count": 7,
     "metadata": {},
     "output_type": "execute_result"
    }
   ],
   "source": [
    "purchase_data_df.isnull().sum()"
   ]
  },
  {
   "cell_type": "code",
   "execution_count": 8,
   "id": "60cf88e4",
   "metadata": {},
   "outputs": [
    {
     "data": {
      "text/plain": [
       "Month              0\n",
       "Page_Load_Time     0\n",
       "Bounce_Rate        0\n",
       "Conversion_Rate    0\n",
       "dtype: int64"
      ]
     },
     "execution_count": 8,
     "metadata": {},
     "output_type": "execute_result"
    }
   ],
   "source": [
    "website_performance_df.isnull().sum()"
   ]
  },
  {
   "cell_type": "raw",
   "id": "1be40461",
   "metadata": {},
   "source": [
    "conclusion: No missing values"
   ]
  },
  {
   "cell_type": "code",
   "execution_count": 9,
   "id": "bae1d32b",
   "metadata": {},
   "outputs": [],
   "source": [
    "#Detect Outliers\n",
    "def detect_outliers(data):\n",
    "    # Calculate Q1 (25th percentile) and Q3 (75th percentile)\n",
    "    Q1 = data.quantile(0.25)\n",
    "    Q3 = data.quantile(0.75)\n",
    "\n",
    "    # Calculate the Interquartile Range (IQR)\n",
    "    IQR = Q3 - Q1\n",
    "\n",
    "    # Calculate the lower and upper bounds for outlier detection\n",
    "    lower_bound = Q1 - 1.5 * IQR\n",
    "    upper_bound = Q3 + 1.5 * IQR\n",
    "    # Detect outliers\n",
    "    outliers = (data < lower_bound) | (data > upper_bound)\n",
    "    return outliers"
   ]
  },
  {
   "cell_type": "code",
   "execution_count": 10,
   "id": "e5051892",
   "metadata": {},
   "outputs": [
    {
     "name": "stdout",
     "output_type": "stream",
     "text": [
      "False    5000\n",
      "Name: Time_Spent_Seconds, dtype: int64\n",
      "False    1000\n",
      "Name: Transaction_Amount, dtype: int64\n",
      "False    12\n",
      "Name: Page_Load_Time, dtype: int64\n",
      "False    12\n",
      "Name: Bounce_Rate, dtype: int64\n",
      "False    12\n",
      "Name: Conversion_Rate, dtype: int64\n"
     ]
    }
   ],
   "source": [
    "#Check if there is any outlier\n",
    "print(detect_outliers(user_interactions_df['Time_Spent_Seconds']).value_counts())\n",
    "print(detect_outliers(purchase_data_df['Transaction_Amount']).value_counts())\n",
    "print(detect_outliers(website_performance_df['Page_Load_Time']).value_counts())\n",
    "print(detect_outliers(website_performance_df['Bounce_Rate']).value_counts())\n",
    "print(detect_outliers(website_performance_df['Conversion_Rate']).value_counts())"
   ]
  },
  {
   "cell_type": "markdown",
   "id": "7f32a726",
   "metadata": {},
   "source": [
    "conclusion: There is no outlier"
   ]
  },
  {
   "cell_type": "markdown",
   "id": "9f60a550",
   "metadata": {},
   "source": [
    "sns.boxplot(x='Time_Spent_Seconds', y='Page_Viewed', data=user_interactions_df, palette='Set3')\n",
    "sns.stripplot(x='Time_Spent_Seconds', y='Page_Viewed', data=user_interactions_df, color='black', jitter=True, size=4)\n",
    "plt.title(\"Box Plot for Time Spent and Page Views with Outliers\")\n",
    "plt.xlabel(\"Time Spent (Seconds)\")\n",
    "plt.ylabel(\"Page Viewed\")\n",
    "plt.show()"
   ]
  },
  {
   "cell_type": "markdown",
   "id": "5bea803a",
   "metadata": {},
   "source": [
    "### User Behavior Analysis:"
   ]
  },
  {
   "cell_type": "code",
   "execution_count": 11,
   "id": "09421383",
   "metadata": {},
   "outputs": [
    {
     "data": {
      "text/html": [
       "<div>\n",
       "<style scoped>\n",
       "    .dataframe tbody tr th:only-of-type {\n",
       "        vertical-align: middle;\n",
       "    }\n",
       "\n",
       "    .dataframe tbody tr th {\n",
       "        vertical-align: top;\n",
       "    }\n",
       "\n",
       "    .dataframe thead th {\n",
       "        text-align: right;\n",
       "    }\n",
       "</style>\n",
       "<table border=\"1\" class=\"dataframe\">\n",
       "  <thead>\n",
       "    <tr style=\"text-align: right;\">\n",
       "      <th></th>\n",
       "      <th>Visits</th>\n",
       "      <th>Page_Viewed</th>\n",
       "    </tr>\n",
       "  </thead>\n",
       "  <tbody>\n",
       "    <tr>\n",
       "      <th>0</th>\n",
       "      <td>Homepage</td>\n",
       "      <td>1045</td>\n",
       "    </tr>\n",
       "    <tr>\n",
       "      <th>1</th>\n",
       "      <td>Cart Page</td>\n",
       "      <td>1041</td>\n",
       "    </tr>\n",
       "    <tr>\n",
       "      <th>2</th>\n",
       "      <td>Checkout Page</td>\n",
       "      <td>989</td>\n",
       "    </tr>\n",
       "    <tr>\n",
       "      <th>3</th>\n",
       "      <td>Category Page</td>\n",
       "      <td>972</td>\n",
       "    </tr>\n",
       "    <tr>\n",
       "      <th>4</th>\n",
       "      <td>Product Page</td>\n",
       "      <td>953</td>\n",
       "    </tr>\n",
       "  </tbody>\n",
       "</table>\n",
       "</div>"
      ],
      "text/plain": [
       "          Visits  Page_Viewed\n",
       "0       Homepage         1045\n",
       "1      Cart Page         1041\n",
       "2  Checkout Page          989\n",
       "3  Category Page          972\n",
       "4   Product Page          953"
      ]
     },
     "execution_count": 11,
     "metadata": {},
     "output_type": "execute_result"
    }
   ],
   "source": [
    "most_visited_pages = pd.DataFrame(user_interactions_df['Page_Viewed'].value_counts())\n",
    "# Rename the index to 'Visits' for clarity\n",
    "most_visited_pages.reset_index(inplace=True)\n",
    "most_visited_pages.rename(columns={'index': 'Visits'}, inplace=True)\n",
    "most_visited_pages"
   ]
  },
  {
   "cell_type": "code",
   "execution_count": 12,
   "id": "ff715028",
   "metadata": {},
   "outputs": [
    {
     "data": {
      "image/png": "[encoded data removed]",
      "text/plain": [
       "<Figure size 1000x600 with 1 Axes>"
      ]
     },
     "metadata": {},
     "output_type": "display_data"
    }
   ],
   "source": [
    "# Visualization 1: Bar plot for most visited pages\n",
    "plt.figure(figsize=(10, 6))\n",
    "sns.barplot(x=most_visited_pages.Visits, y=most_visited_pages.Page_Viewed, palette='viridis')\n",
    "plt.title(\"Most Visited Pages\")\n",
    "plt.xlabel(\"Page Viewed\")\n",
    "plt.ylabel(\"Number of Visits\")\n",
    "plt.tight_layout()\n",
    "plt.show()"
   ]
  },
  {
   "cell_type": "markdown",
   "id": "6d667bc1",
   "metadata": {},
   "source": [
    "most visited page : Homepage"
   ]
  },
  {
   "cell_type": "markdown",
   "id": "8dca8eb8",
   "metadata": {},
   "source": [
    "### Average time spent on each page "
   ]
  },
  {
   "cell_type": "code",
   "execution_count": 13,
   "id": "e3fb3aee",
   "metadata": {},
   "outputs": [
    {
     "name": "stdout",
     "output_type": "stream",
     "text": [
      "\n",
      "Average Time Spent on Each Page:\n",
      "     Page_Viewed  Time_Spent_Seconds\n",
      "3       Homepage          310.215311\n",
      "2  Checkout Page          306.760364\n",
      "4   Product Page          304.562434\n",
      "0      Cart Page          302.819404\n",
      "1  Category Page          297.839506\n"
     ]
    }
   ],
   "source": [
    "average_time_spent = pd.DataFrame(user_interactions_df.groupby('Page_Viewed')['Time_Spent_Seconds'].mean()).reset_index()\n",
    "print(\"\\nAverage Time Spent on Each Page:\")\n",
    "average_time_spent = average_time_spent.sort_values(by='Time_Spent_Seconds', ascending=False)\n",
    "print(average_time_spent)"
   ]
  },
  {
   "cell_type": "code",
   "execution_count": 14,
   "id": "ec2397d7",
   "metadata": {},
   "outputs": [
    {
     "data": {
      "image/png": "[encoded data removed]",
      "text/plain": [
       "<Figure size 640x480 with 1 Axes>"
      ]
     },
     "metadata": {},
     "output_type": "display_data"
    }
   ],
   "source": [
    "sns.barplot(x=average_time_spent.Page_Viewed, y=average_time_spent.Time_Spent_Seconds, palette='magma')\n",
    "plt.title(\"Average Time Spent on Each Page\")\n",
    "plt.xlabel(\"Page Viewed\")\n",
    "plt.ylabel(\"Average Time Spent (Seconds)\")\n",
    "plt.tight_layout()\n",
    "plt.show()"
   ]
  },
  {
   "cell_type": "markdown",
   "id": "798940e8",
   "metadata": {},
   "source": [
    "most average visited page : Homepage"
   ]
  },
  {
   "cell_type": "markdown",
   "id": "884085ee",
   "metadata": {},
   "source": [
    "### Click-Through Rate (CTR):\n"
   ]
  },
  {
   "cell_type": "code",
   "execution_count": 15,
   "id": "24b14fd4",
   "metadata": {},
   "outputs": [],
   "source": [
    "clicks_per_page = user_interactions_df.groupby(\"Page_Viewed\")[\"User_ID\"].count()\n",
    "page_views_per_page = user_interactions_df.groupby(\"Page_Viewed\")[\"Time_Spent_Seconds\"].sum()\n",
    "\n",
    "click_through_rate = (clicks_per_page / page_views_per_page)*100"
   ]
  },
  {
   "cell_type": "code",
   "execution_count": 16,
   "id": "bd472a65",
   "metadata": {},
   "outputs": [
    {
     "data": {
      "text/html": [
       "<div>\n",
       "<style scoped>\n",
       "    .dataframe tbody tr th:only-of-type {\n",
       "        vertical-align: middle;\n",
       "    }\n",
       "\n",
       "    .dataframe tbody tr th {\n",
       "        vertical-align: top;\n",
       "    }\n",
       "\n",
       "    .dataframe thead th {\n",
       "        text-align: right;\n",
       "    }\n",
       "</style>\n",
       "<table border=\"1\" class=\"dataframe\">\n",
       "  <thead>\n",
       "    <tr style=\"text-align: right;\">\n",
       "      <th></th>\n",
       "      <th>User_ID</th>\n",
       "    </tr>\n",
       "    <tr>\n",
       "      <th>Page_Viewed</th>\n",
       "      <th></th>\n",
       "    </tr>\n",
       "  </thead>\n",
       "  <tbody>\n",
       "    <tr>\n",
       "      <th>Cart Page</th>\n",
       "      <td>1041</td>\n",
       "    </tr>\n",
       "    <tr>\n",
       "      <th>Category Page</th>\n",
       "      <td>972</td>\n",
       "    </tr>\n",
       "    <tr>\n",
       "      <th>Checkout Page</th>\n",
       "      <td>989</td>\n",
       "    </tr>\n",
       "    <tr>\n",
       "      <th>Homepage</th>\n",
       "      <td>1045</td>\n",
       "    </tr>\n",
       "    <tr>\n",
       "      <th>Product Page</th>\n",
       "      <td>953</td>\n",
       "    </tr>\n",
       "  </tbody>\n",
       "</table>\n",
       "</div>"
      ],
      "text/plain": [
       "               User_ID\n",
       "Page_Viewed           \n",
       "Cart Page         1041\n",
       "Category Page      972\n",
       "Checkout Page      989\n",
       "Homepage          1045\n",
       "Product Page       953"
      ]
     },
     "execution_count": 16,
     "metadata": {},
     "output_type": "execute_result"
    }
   ],
   "source": [
    "clicks_per_page=pd.DataFrame(clicks_per_page)\n",
    "clicks_per_page"
   ]
  },
  {
   "cell_type": "code",
   "execution_count": 17,
   "id": "641abfc1",
   "metadata": {},
   "outputs": [
    {
     "data": {
      "text/html": [
       "<div>\n",
       "<style scoped>\n",
       "    .dataframe tbody tr th:only-of-type {\n",
       "        vertical-align: middle;\n",
       "    }\n",
       "\n",
       "    .dataframe tbody tr th {\n",
       "        vertical-align: top;\n",
       "    }\n",
       "\n",
       "    .dataframe thead th {\n",
       "        text-align: right;\n",
       "    }\n",
       "</style>\n",
       "<table border=\"1\" class=\"dataframe\">\n",
       "  <thead>\n",
       "    <tr style=\"text-align: right;\">\n",
       "      <th></th>\n",
       "      <th>Time_Spent_Seconds</th>\n",
       "    </tr>\n",
       "    <tr>\n",
       "      <th>Page_Viewed</th>\n",
       "      <th></th>\n",
       "    </tr>\n",
       "  </thead>\n",
       "  <tbody>\n",
       "    <tr>\n",
       "      <th>Cart Page</th>\n",
       "      <td>315235</td>\n",
       "    </tr>\n",
       "    <tr>\n",
       "      <th>Category Page</th>\n",
       "      <td>289500</td>\n",
       "    </tr>\n",
       "    <tr>\n",
       "      <th>Checkout Page</th>\n",
       "      <td>303386</td>\n",
       "    </tr>\n",
       "    <tr>\n",
       "      <th>Homepage</th>\n",
       "      <td>324175</td>\n",
       "    </tr>\n",
       "    <tr>\n",
       "      <th>Product Page</th>\n",
       "      <td>290248</td>\n",
       "    </tr>\n",
       "  </tbody>\n",
       "</table>\n",
       "</div>"
      ],
      "text/plain": [
       "               Time_Spent_Seconds\n",
       "Page_Viewed                      \n",
       "Cart Page                  315235\n",
       "Category Page              289500\n",
       "Checkout Page              303386\n",
       "Homepage                   324175\n",
       "Product Page               290248"
      ]
     },
     "execution_count": 17,
     "metadata": {},
     "output_type": "execute_result"
    }
   ],
   "source": [
    "page_views_per_page=pd.DataFrame(page_views_per_page)\n",
    "page_views_per_page"
   ]
  },
  {
   "cell_type": "code",
   "execution_count": 18,
   "id": "f97f55e9",
   "metadata": {},
   "outputs": [
    {
     "data": {
      "text/html": [
       "<div>\n",
       "<style scoped>\n",
       "    .dataframe tbody tr th:only-of-type {\n",
       "        vertical-align: middle;\n",
       "    }\n",
       "\n",
       "    .dataframe tbody tr th {\n",
       "        vertical-align: top;\n",
       "    }\n",
       "\n",
       "    .dataframe thead th {\n",
       "        text-align: right;\n",
       "    }\n",
       "</style>\n",
       "<table border=\"1\" class=\"dataframe\">\n",
       "  <thead>\n",
       "    <tr style=\"text-align: right;\">\n",
       "      <th></th>\n",
       "      <th>CTR</th>\n",
       "    </tr>\n",
       "    <tr>\n",
       "      <th>Page_Viewed</th>\n",
       "      <th></th>\n",
       "    </tr>\n",
       "  </thead>\n",
       "  <tbody>\n",
       "    <tr>\n",
       "      <th>Category Page</th>\n",
       "      <td>0.335751</td>\n",
       "    </tr>\n",
       "    <tr>\n",
       "      <th>Cart Page</th>\n",
       "      <td>0.330230</td>\n",
       "    </tr>\n",
       "    <tr>\n",
       "      <th>Product Page</th>\n",
       "      <td>0.328340</td>\n",
       "    </tr>\n",
       "    <tr>\n",
       "      <th>Checkout Page</th>\n",
       "      <td>0.325987</td>\n",
       "    </tr>\n",
       "    <tr>\n",
       "      <th>Homepage</th>\n",
       "      <td>0.322357</td>\n",
       "    </tr>\n",
       "  </tbody>\n",
       "</table>\n",
       "</div>"
      ],
      "text/plain": [
       "                    CTR\n",
       "Page_Viewed            \n",
       "Category Page  0.335751\n",
       "Cart Page      0.330230\n",
       "Product Page   0.328340\n",
       "Checkout Page  0.325987\n",
       "Homepage       0.322357"
      ]
     },
     "execution_count": 18,
     "metadata": {},
     "output_type": "execute_result"
    }
   ],
   "source": [
    "click_through_rate_df = pd.DataFrame(click_through_rate, columns={\"CTR\"})\n",
    "click_through_rate_df.sort_values(by='CTR',ascending=False,inplace=True)\n",
    "click_through_rate_df"
   ]
  },
  {
   "cell_type": "code",
   "execution_count": 19,
   "id": "5299bcac",
   "metadata": {},
   "outputs": [
    {
     "data": {
      "image/png": "[encoded data removed]",
      "text/plain": [
       "<Figure size 1000x600 with 1 Axes>"
      ]
     },
     "metadata": {},
     "output_type": "display_data"
    }
   ],
   "source": [
    "plt.figure(figsize=(10, 6))\n",
    "sns.barplot(data=click_through_rate_df, x=click_through_rate_df.index, y=click_through_rate_df[\"CTR\"])\n",
    "plt.xlabel(\"Website Section\")\n",
    "plt.ylabel(\"Click-Through Rate (%)\")\n",
    "plt.title(\"Click-Through Rate for Different Website Sections\")\n",
    "plt.tight_layout()\n",
    "plt.show()"
   ]
  },
  {
   "cell_type": "markdown",
   "id": "7a876dab",
   "metadata": {},
   "source": [
    "### Purchase Analysis:\n"
   ]
  },
  {
   "cell_type": "code",
   "execution_count": 20,
   "id": "bfb1e95c",
   "metadata": {},
   "outputs": [],
   "source": [
    "purchase_data_df[\"Purchase_Time\"] = pd.to_datetime(purchase_data_df[\"Purchase_Time\"])\n",
    "purchase_data_df.sort_values(by=\"Purchase_Time\", inplace=True)"
   ]
  },
  {
   "cell_type": "code",
   "execution_count": 21,
   "id": "abdb2c5f",
   "metadata": {},
   "outputs": [
    {
     "name": "stdout",
     "output_type": "stream",
     "text": [
      "Overall Conversion Rate: 91.60%\n"
     ]
    }
   ],
   "source": [
    "# Calculate the overall conversion rate for the website\n",
    "total_purchases = len(purchase_data_df)\n",
    "unique_purchasers = len(purchase_data_df[\"User_ID\"].unique())\n",
    "overall_conversion_rate = (unique_purchasers / total_purchases) * 100\n",
    "\n",
    "print(\"Overall Conversion Rate: {:.2f}%\".format(overall_conversion_rate))"
   ]
  },
  {
   "cell_type": "code",
   "execution_count": 22,
   "id": "2c2dd6ff",
   "metadata": {},
   "outputs": [
    {
     "name": "stdout",
     "output_type": "stream",
     "text": [
      "Top-Selling Products:\n"
     ]
    },
    {
     "data": {
      "text/html": [
       "<div>\n",
       "<style scoped>\n",
       "    .dataframe tbody tr th:only-of-type {\n",
       "        vertical-align: middle;\n",
       "    }\n",
       "\n",
       "    .dataframe tbody tr th {\n",
       "        vertical-align: top;\n",
       "    }\n",
       "\n",
       "    .dataframe thead th {\n",
       "        text-align: right;\n",
       "    }\n",
       "</style>\n",
       "<table border=\"1\" class=\"dataframe\">\n",
       "  <thead>\n",
       "    <tr style=\"text-align: right;\">\n",
       "      <th></th>\n",
       "      <th>Product_ID</th>\n",
       "      <th>Transaction_Amount</th>\n",
       "    </tr>\n",
       "  </thead>\n",
       "  <tbody>\n",
       "    <tr>\n",
       "      <th>10</th>\n",
       "      <td>Product_19</td>\n",
       "      <td>7125.056901</td>\n",
       "    </tr>\n",
       "    <tr>\n",
       "      <th>8</th>\n",
       "      <td>Product_17</td>\n",
       "      <td>6711.316153</td>\n",
       "    </tr>\n",
       "    <tr>\n",
       "      <th>4</th>\n",
       "      <td>Product_13</td>\n",
       "      <td>6680.243756</td>\n",
       "    </tr>\n",
       "    <tr>\n",
       "      <th>13</th>\n",
       "      <td>Product_3</td>\n",
       "      <td>6375.983900</td>\n",
       "    </tr>\n",
       "    <tr>\n",
       "      <th>12</th>\n",
       "      <td>Product_20</td>\n",
       "      <td>6359.302691</td>\n",
       "    </tr>\n",
       "    <tr>\n",
       "      <th>18</th>\n",
       "      <td>Product_8</td>\n",
       "      <td>5780.766674</td>\n",
       "    </tr>\n",
       "    <tr>\n",
       "      <th>15</th>\n",
       "      <td>Product_5</td>\n",
       "      <td>5697.714155</td>\n",
       "    </tr>\n",
       "    <tr>\n",
       "      <th>14</th>\n",
       "      <td>Product_4</td>\n",
       "      <td>5581.543749</td>\n",
       "    </tr>\n",
       "    <tr>\n",
       "      <th>17</th>\n",
       "      <td>Product_7</td>\n",
       "      <td>5369.148281</td>\n",
       "    </tr>\n",
       "    <tr>\n",
       "      <th>3</th>\n",
       "      <td>Product_12</td>\n",
       "      <td>5363.519340</td>\n",
       "    </tr>\n",
       "    <tr>\n",
       "      <th>11</th>\n",
       "      <td>Product_2</td>\n",
       "      <td>5356.732824</td>\n",
       "    </tr>\n",
       "    <tr>\n",
       "      <th>9</th>\n",
       "      <td>Product_18</td>\n",
       "      <td>4914.814276</td>\n",
       "    </tr>\n",
       "    <tr>\n",
       "      <th>19</th>\n",
       "      <td>Product_9</td>\n",
       "      <td>4851.797823</td>\n",
       "    </tr>\n",
       "    <tr>\n",
       "      <th>6</th>\n",
       "      <td>Product_15</td>\n",
       "      <td>4849.662243</td>\n",
       "    </tr>\n",
       "    <tr>\n",
       "      <th>7</th>\n",
       "      <td>Product_16</td>\n",
       "      <td>4602.385993</td>\n",
       "    </tr>\n",
       "    <tr>\n",
       "      <th>0</th>\n",
       "      <td>Product_1</td>\n",
       "      <td>4342.883539</td>\n",
       "    </tr>\n",
       "    <tr>\n",
       "      <th>2</th>\n",
       "      <td>Product_11</td>\n",
       "      <td>4303.933410</td>\n",
       "    </tr>\n",
       "    <tr>\n",
       "      <th>5</th>\n",
       "      <td>Product_14</td>\n",
       "      <td>4212.846576</td>\n",
       "    </tr>\n",
       "    <tr>\n",
       "      <th>1</th>\n",
       "      <td>Product_10</td>\n",
       "      <td>4112.039422</td>\n",
       "    </tr>\n",
       "    <tr>\n",
       "      <th>16</th>\n",
       "      <td>Product_6</td>\n",
       "      <td>3757.051799</td>\n",
       "    </tr>\n",
       "  </tbody>\n",
       "</table>\n",
       "</div>"
      ],
      "text/plain": [
       "    Product_ID  Transaction_Amount\n",
       "10  Product_19         7125.056901\n",
       "8   Product_17         6711.316153\n",
       "4   Product_13         6680.243756\n",
       "13   Product_3         6375.983900\n",
       "12  Product_20         6359.302691\n",
       "18   Product_8         5780.766674\n",
       "15   Product_5         5697.714155\n",
       "14   Product_4         5581.543749\n",
       "17   Product_7         5369.148281\n",
       "3   Product_12         5363.519340\n",
       "11   Product_2         5356.732824\n",
       "9   Product_18         4914.814276\n",
       "19   Product_9         4851.797823\n",
       "6   Product_15         4849.662243\n",
       "7   Product_16         4602.385993\n",
       "0    Product_1         4342.883539\n",
       "2   Product_11         4303.933410\n",
       "5   Product_14         4212.846576\n",
       "1   Product_10         4112.039422\n",
       "16   Product_6         3757.051799"
      ]
     },
     "execution_count": 22,
     "metadata": {},
     "output_type": "execute_result"
    }
   ],
   "source": [
    "# Top-Selling Products and Product Categories\n",
    "# Identify the top-selling products\n",
    "top_selling_products = purchase_data_df.groupby(\"Product_ID\")[\"Transaction_Amount\"].sum().reset_index()\n",
    "top_selling_products = top_selling_products.sort_values(by='Transaction_Amount', ascending=False)\n",
    "\n",
    "print(\"Top-Selling Products:\")\n",
    "top_selling_products"
   ]
  },
  {
   "cell_type": "code",
   "execution_count": 23,
   "id": "18902035",
   "metadata": {},
   "outputs": [
    {
     "data": {
      "image/png": "[encoded data removed]",
      "text/plain": [
       "<Figure size 1000x600 with 1 Axes>"
      ]
     },
     "metadata": {},
     "output_type": "display_data"
    }
   ],
   "source": [
    "# Plotting the data using sns.barplot\n",
    "plt.figure(figsize=(10, 6))\n",
    "sns.barplot(data=top_selling_products, y=\"Product_ID\", x=\"Transaction_Amount\", palette='colorblind')\n",
    "plt.ylabel(\"Product ID\")\n",
    "plt.xlabel(\"Total Sales\")\n",
    "plt.title(\"Top-Selling Products and Their Total Sales\")\n",
    "plt.tight_layout()\n",
    "plt.show()"
   ]
  },
  {
   "cell_type": "markdown",
   "id": "6dbd00cd",
   "metadata": {},
   "source": [
    "### Cohort Analysis:\n"
   ]
  },
  {
   "cell_type": "code",
   "execution_count": 24,
   "id": "ea720f9d",
   "metadata": {},
   "outputs": [
    {
     "data": {
      "text/html": [
       "<div>\n",
       "<style scoped>\n",
       "    .dataframe tbody tr th:only-of-type {\n",
       "        vertical-align: middle;\n",
       "    }\n",
       "\n",
       "    .dataframe tbody tr th {\n",
       "        vertical-align: top;\n",
       "    }\n",
       "\n",
       "    .dataframe thead th {\n",
       "        text-align: right;\n",
       "    }\n",
       "</style>\n",
       "<table border=\"1\" class=\"dataframe\">\n",
       "  <thead>\n",
       "    <tr style=\"text-align: right;\">\n",
       "      <th></th>\n",
       "      <th>Purchase_ID</th>\n",
       "      <th>User_ID</th>\n",
       "      <th>Product_ID</th>\n",
       "      <th>Transaction_Amount</th>\n",
       "      <th>Purchase_Time</th>\n",
       "    </tr>\n",
       "  </thead>\n",
       "  <tbody>\n",
       "    <tr>\n",
       "      <th>742</th>\n",
       "      <td>Purchase_843</td>\n",
       "      <td>User_1531</td>\n",
       "      <td>Product_13</td>\n",
       "      <td>135.854417</td>\n",
       "      <td>2023-01-01 14:17:21</td>\n",
       "    </tr>\n",
       "    <tr>\n",
       "      <th>386</th>\n",
       "      <td>Purchase_960</td>\n",
       "      <td>User_2621</td>\n",
       "      <td>Product_5</td>\n",
       "      <td>157.522460</td>\n",
       "      <td>2023-01-01 15:23:37</td>\n",
       "    </tr>\n",
       "    <tr>\n",
       "      <th>948</th>\n",
       "      <td>Purchase_966</td>\n",
       "      <td>User_2333</td>\n",
       "      <td>Product_7</td>\n",
       "      <td>196.253073</td>\n",
       "      <td>2023-01-01 22:08:04</td>\n",
       "    </tr>\n",
       "    <tr>\n",
       "      <th>156</th>\n",
       "      <td>Purchase_338</td>\n",
       "      <td>User_1946</td>\n",
       "      <td>Product_2</td>\n",
       "      <td>20.995437</td>\n",
       "      <td>2023-01-02 03:03:25</td>\n",
       "    </tr>\n",
       "    <tr>\n",
       "      <th>445</th>\n",
       "      <td>Purchase_750</td>\n",
       "      <td>User_3773</td>\n",
       "      <td>Product_2</td>\n",
       "      <td>65.055937</td>\n",
       "      <td>2023-01-02 12:43:07</td>\n",
       "    </tr>\n",
       "    <tr>\n",
       "      <th>...</th>\n",
       "      <td>...</td>\n",
       "      <td>...</td>\n",
       "      <td>...</td>\n",
       "      <td>...</td>\n",
       "      <td>...</td>\n",
       "    </tr>\n",
       "    <tr>\n",
       "      <th>513</th>\n",
       "      <td>Purchase_20</td>\n",
       "      <td>User_4027</td>\n",
       "      <td>Product_8</td>\n",
       "      <td>184.290431</td>\n",
       "      <td>2023-07-28 02:36:01</td>\n",
       "    </tr>\n",
       "    <tr>\n",
       "      <th>781</th>\n",
       "      <td>Purchase_696</td>\n",
       "      <td>User_982</td>\n",
       "      <td>Product_20</td>\n",
       "      <td>136.615615</td>\n",
       "      <td>2023-07-28 17:22:37</td>\n",
       "    </tr>\n",
       "    <tr>\n",
       "      <th>617</th>\n",
       "      <td>Purchase_407</td>\n",
       "      <td>User_1385</td>\n",
       "      <td>Product_18</td>\n",
       "      <td>156.422763</td>\n",
       "      <td>2023-07-28 18:55:29</td>\n",
       "    </tr>\n",
       "    <tr>\n",
       "      <th>644</th>\n",
       "      <td>Purchase_488</td>\n",
       "      <td>User_1774</td>\n",
       "      <td>Product_2</td>\n",
       "      <td>69.193960</td>\n",
       "      <td>2023-07-28 19:15:58</td>\n",
       "    </tr>\n",
       "    <tr>\n",
       "      <th>753</th>\n",
       "      <td>Purchase_436</td>\n",
       "      <td>User_233</td>\n",
       "      <td>Product_6</td>\n",
       "      <td>88.898143</td>\n",
       "      <td>2023-07-29 07:42:50</td>\n",
       "    </tr>\n",
       "  </tbody>\n",
       "</table>\n",
       "<p>1000 rows × 5 columns</p>\n",
       "</div>"
      ],
      "text/plain": [
       "      Purchase_ID    User_ID  Product_ID  Transaction_Amount  \\\n",
       "742  Purchase_843  User_1531  Product_13          135.854417   \n",
       "386  Purchase_960  User_2621   Product_5          157.522460   \n",
       "948  Purchase_966  User_2333   Product_7          196.253073   \n",
       "156  Purchase_338  User_1946   Product_2           20.995437   \n",
       "445  Purchase_750  User_3773   Product_2           65.055937   \n",
       "..            ...        ...         ...                 ...   \n",
       "513   Purchase_20  User_4027   Product_8          184.290431   \n",
       "781  Purchase_696   User_982  Product_20          136.615615   \n",
       "617  Purchase_407  User_1385  Product_18          156.422763   \n",
       "644  Purchase_488  User_1774   Product_2           69.193960   \n",
       "753  Purchase_436   User_233   Product_6           88.898143   \n",
       "\n",
       "          Purchase_Time  \n",
       "742 2023-01-01 14:17:21  \n",
       "386 2023-01-01 15:23:37  \n",
       "948 2023-01-01 22:08:04  \n",
       "156 2023-01-02 03:03:25  \n",
       "445 2023-01-02 12:43:07  \n",
       "..                  ...  \n",
       "513 2023-07-28 02:36:01  \n",
       "781 2023-07-28 17:22:37  \n",
       "617 2023-07-28 18:55:29  \n",
       "644 2023-07-28 19:15:58  \n",
       "753 2023-07-29 07:42:50  \n",
       "\n",
       "[1000 rows x 5 columns]"
      ]
     },
     "execution_count": 24,
     "metadata": {},
     "output_type": "execute_result"
    }
   ],
   "source": [
    "purchase_data_df"
   ]
  },
  {
   "cell_type": "code",
   "execution_count": 25,
   "id": "d28d4a62",
   "metadata": {},
   "outputs": [
    {
     "data": {
      "text/html": [
       "<div>\n",
       "<style scoped>\n",
       "    .dataframe tbody tr th:only-of-type {\n",
       "        vertical-align: middle;\n",
       "    }\n",
       "\n",
       "    .dataframe tbody tr th {\n",
       "        vertical-align: top;\n",
       "    }\n",
       "\n",
       "    .dataframe thead th {\n",
       "        text-align: right;\n",
       "    }\n",
       "</style>\n",
       "<table border=\"1\" class=\"dataframe\">\n",
       "  <thead>\n",
       "    <tr style=\"text-align: right;\">\n",
       "      <th>User_ID</th>\n",
       "      <th>User_1000</th>\n",
       "      <th>User_1013</th>\n",
       "      <th>User_1029</th>\n",
       "      <th>User_1031</th>\n",
       "      <th>User_1036</th>\n",
       "      <th>User_1038</th>\n",
       "      <th>User_1044</th>\n",
       "      <th>User_1045</th>\n",
       "      <th>User_1051</th>\n",
       "      <th>User_1054</th>\n",
       "      <th>...</th>\n",
       "      <th>User_967</th>\n",
       "      <th>User_974</th>\n",
       "      <th>User_975</th>\n",
       "      <th>User_98</th>\n",
       "      <th>User_982</th>\n",
       "      <th>User_983</th>\n",
       "      <th>User_987</th>\n",
       "      <th>User_989</th>\n",
       "      <th>User_990</th>\n",
       "      <th>User_998</th>\n",
       "    </tr>\n",
       "    <tr>\n",
       "      <th>Month_Year</th>\n",
       "      <th></th>\n",
       "      <th></th>\n",
       "      <th></th>\n",
       "      <th></th>\n",
       "      <th></th>\n",
       "      <th></th>\n",
       "      <th></th>\n",
       "      <th></th>\n",
       "      <th></th>\n",
       "      <th></th>\n",
       "      <th></th>\n",
       "      <th></th>\n",
       "      <th></th>\n",
       "      <th></th>\n",
       "      <th></th>\n",
       "      <th></th>\n",
       "      <th></th>\n",
       "      <th></th>\n",
       "      <th></th>\n",
       "      <th></th>\n",
       "      <th></th>\n",
       "    </tr>\n",
       "  </thead>\n",
       "  <tbody>\n",
       "    <tr>\n",
       "      <th>2023-01</th>\n",
       "      <td>NaN</td>\n",
       "      <td>NaN</td>\n",
       "      <td>NaN</td>\n",
       "      <td>NaN</td>\n",
       "      <td>NaN</td>\n",
       "      <td>NaN</td>\n",
       "      <td>NaN</td>\n",
       "      <td>NaN</td>\n",
       "      <td>NaN</td>\n",
       "      <td>NaN</td>\n",
       "      <td>...</td>\n",
       "      <td>NaN</td>\n",
       "      <td>NaN</td>\n",
       "      <td>NaN</td>\n",
       "      <td>NaN</td>\n",
       "      <td>NaN</td>\n",
       "      <td>NaN</td>\n",
       "      <td>NaN</td>\n",
       "      <td>NaN</td>\n",
       "      <td>NaN</td>\n",
       "      <td>NaN</td>\n",
       "    </tr>\n",
       "    <tr>\n",
       "      <th>2023-02</th>\n",
       "      <td>NaN</td>\n",
       "      <td>NaN</td>\n",
       "      <td>NaN</td>\n",
       "      <td>NaN</td>\n",
       "      <td>NaN</td>\n",
       "      <td>NaN</td>\n",
       "      <td>0.775194</td>\n",
       "      <td>NaN</td>\n",
       "      <td>NaN</td>\n",
       "      <td>0.775194</td>\n",
       "      <td>...</td>\n",
       "      <td>0.775194</td>\n",
       "      <td>NaN</td>\n",
       "      <td>NaN</td>\n",
       "      <td>NaN</td>\n",
       "      <td>NaN</td>\n",
       "      <td>NaN</td>\n",
       "      <td>NaN</td>\n",
       "      <td>NaN</td>\n",
       "      <td>0.775194</td>\n",
       "      <td>NaN</td>\n",
       "    </tr>\n",
       "    <tr>\n",
       "      <th>2023-03</th>\n",
       "      <td>NaN</td>\n",
       "      <td>NaN</td>\n",
       "      <td>NaN</td>\n",
       "      <td>NaN</td>\n",
       "      <td>NaN</td>\n",
       "      <td>NaN</td>\n",
       "      <td>NaN</td>\n",
       "      <td>NaN</td>\n",
       "      <td>NaN</td>\n",
       "      <td>NaN</td>\n",
       "      <td>...</td>\n",
       "      <td>NaN</td>\n",
       "      <td>NaN</td>\n",
       "      <td>NaN</td>\n",
       "      <td>NaN</td>\n",
       "      <td>NaN</td>\n",
       "      <td>NaN</td>\n",
       "      <td>NaN</td>\n",
       "      <td>NaN</td>\n",
       "      <td>NaN</td>\n",
       "      <td>0.657895</td>\n",
       "    </tr>\n",
       "    <tr>\n",
       "      <th>2023-04</th>\n",
       "      <td>NaN</td>\n",
       "      <td>NaN</td>\n",
       "      <td>NaN</td>\n",
       "      <td>NaN</td>\n",
       "      <td>NaN</td>\n",
       "      <td>0.694444</td>\n",
       "      <td>NaN</td>\n",
       "      <td>NaN</td>\n",
       "      <td>0.694444</td>\n",
       "      <td>NaN</td>\n",
       "      <td>...</td>\n",
       "      <td>NaN</td>\n",
       "      <td>NaN</td>\n",
       "      <td>0.694444</td>\n",
       "      <td>0.694444</td>\n",
       "      <td>NaN</td>\n",
       "      <td>NaN</td>\n",
       "      <td>NaN</td>\n",
       "      <td>0.694444</td>\n",
       "      <td>NaN</td>\n",
       "      <td>NaN</td>\n",
       "    </tr>\n",
       "    <tr>\n",
       "      <th>2023-05</th>\n",
       "      <td>0.740741</td>\n",
       "      <td>NaN</td>\n",
       "      <td>NaN</td>\n",
       "      <td>NaN</td>\n",
       "      <td>NaN</td>\n",
       "      <td>NaN</td>\n",
       "      <td>NaN</td>\n",
       "      <td>NaN</td>\n",
       "      <td>NaN</td>\n",
       "      <td>NaN</td>\n",
       "      <td>...</td>\n",
       "      <td>NaN</td>\n",
       "      <td>NaN</td>\n",
       "      <td>NaN</td>\n",
       "      <td>NaN</td>\n",
       "      <td>NaN</td>\n",
       "      <td>NaN</td>\n",
       "      <td>0.740741</td>\n",
       "      <td>NaN</td>\n",
       "      <td>NaN</td>\n",
       "      <td>NaN</td>\n",
       "    </tr>\n",
       "    <tr>\n",
       "      <th>2023-06</th>\n",
       "      <td>NaN</td>\n",
       "      <td>0.729927</td>\n",
       "      <td>NaN</td>\n",
       "      <td>0.729927</td>\n",
       "      <td>0.729927</td>\n",
       "      <td>NaN</td>\n",
       "      <td>NaN</td>\n",
       "      <td>NaN</td>\n",
       "      <td>NaN</td>\n",
       "      <td>NaN</td>\n",
       "      <td>...</td>\n",
       "      <td>NaN</td>\n",
       "      <td>NaN</td>\n",
       "      <td>NaN</td>\n",
       "      <td>NaN</td>\n",
       "      <td>NaN</td>\n",
       "      <td>0.729927</td>\n",
       "      <td>NaN</td>\n",
       "      <td>NaN</td>\n",
       "      <td>NaN</td>\n",
       "      <td>NaN</td>\n",
       "    </tr>\n",
       "    <tr>\n",
       "      <th>2023-07</th>\n",
       "      <td>NaN</td>\n",
       "      <td>NaN</td>\n",
       "      <td>0.75188</td>\n",
       "      <td>NaN</td>\n",
       "      <td>NaN</td>\n",
       "      <td>NaN</td>\n",
       "      <td>NaN</td>\n",
       "      <td>0.75188</td>\n",
       "      <td>NaN</td>\n",
       "      <td>NaN</td>\n",
       "      <td>...</td>\n",
       "      <td>NaN</td>\n",
       "      <td>0.75188</td>\n",
       "      <td>NaN</td>\n",
       "      <td>NaN</td>\n",
       "      <td>0.75188</td>\n",
       "      <td>NaN</td>\n",
       "      <td>NaN</td>\n",
       "      <td>NaN</td>\n",
       "      <td>NaN</td>\n",
       "      <td>NaN</td>\n",
       "    </tr>\n",
       "  </tbody>\n",
       "</table>\n",
       "<p>7 rows × 916 columns</p>\n",
       "</div>"
      ],
      "text/plain": [
       "User_ID     User_1000  User_1013  User_1029  User_1031  User_1036  User_1038  \\\n",
       "Month_Year                                                                     \n",
       "2023-01           NaN        NaN        NaN        NaN        NaN        NaN   \n",
       "2023-02           NaN        NaN        NaN        NaN        NaN        NaN   \n",
       "2023-03           NaN        NaN        NaN        NaN        NaN        NaN   \n",
       "2023-04           NaN        NaN        NaN        NaN        NaN   0.694444   \n",
       "2023-05      0.740741        NaN        NaN        NaN        NaN        NaN   \n",
       "2023-06           NaN   0.729927        NaN   0.729927   0.729927        NaN   \n",
       "2023-07           NaN        NaN    0.75188        NaN        NaN        NaN   \n",
       "\n",
       "User_ID     User_1044  User_1045  User_1051  User_1054  ...  User_967  \\\n",
       "Month_Year                                              ...             \n",
       "2023-01           NaN        NaN        NaN        NaN  ...       NaN   \n",
       "2023-02      0.775194        NaN        NaN   0.775194  ...  0.775194   \n",
       "2023-03           NaN        NaN        NaN        NaN  ...       NaN   \n",
       "2023-04           NaN        NaN   0.694444        NaN  ...       NaN   \n",
       "2023-05           NaN        NaN        NaN        NaN  ...       NaN   \n",
       "2023-06           NaN        NaN        NaN        NaN  ...       NaN   \n",
       "2023-07           NaN    0.75188        NaN        NaN  ...       NaN   \n",
       "\n",
       "User_ID     User_974  User_975   User_98  User_982  User_983  User_987  \\\n",
       "Month_Year                                                               \n",
       "2023-01          NaN       NaN       NaN       NaN       NaN       NaN   \n",
       "2023-02          NaN       NaN       NaN       NaN       NaN       NaN   \n",
       "2023-03          NaN       NaN       NaN       NaN       NaN       NaN   \n",
       "2023-04          NaN  0.694444  0.694444       NaN       NaN       NaN   \n",
       "2023-05          NaN       NaN       NaN       NaN       NaN  0.740741   \n",
       "2023-06          NaN       NaN       NaN       NaN  0.729927       NaN   \n",
       "2023-07      0.75188       NaN       NaN   0.75188       NaN       NaN   \n",
       "\n",
       "User_ID     User_989  User_990  User_998  \n",
       "Month_Year                                \n",
       "2023-01          NaN       NaN       NaN  \n",
       "2023-02          NaN  0.775194       NaN  \n",
       "2023-03          NaN       NaN  0.657895  \n",
       "2023-04     0.694444       NaN       NaN  \n",
       "2023-05          NaN       NaN       NaN  \n",
       "2023-06          NaN       NaN       NaN  \n",
       "2023-07          NaN       NaN       NaN  \n",
       "\n",
       "[7 rows x 916 columns]"
      ]
     },
     "execution_count": 25,
     "metadata": {},
     "output_type": "execute_result"
    }
   ],
   "source": [
    "purchase_data_df = pd.read_csv(\"purchase_data.csv\")\n",
    "\n",
    "# Convert \"Purchase_Time\" column to datetime data type\n",
    "purchase_data_df[\"Purchase_Time\"] = pd.to_datetime(purchase_data_df[\"Purchase_Time\"])\n",
    "\n",
    "# Extract month and year from \"Purchase_Time\" to create a new column \"Month_Year\"\n",
    "purchase_data_df[\"Month_Year\"] = purchase_data_df[\"Purchase_Time\"].dt.to_period(\"M\")\n",
    "\n",
    "# Group users by their cohort (sign-up month) and count the number of unique users in each cohort\n",
    "cohorts = purchase_data_df.groupby(\"Month_Year\")[\"User_ID\"].nunique()\n",
    "\n",
    "# Create a retention table to track how many users from each cohort made purchases in the subsequent months\n",
    "retention_table = pd.pivot_table(data=purchase_data_df, index=\"Month_Year\", columns=\"User_ID\", values=\"Purchase_ID\", aggfunc=\"count\")\n",
    "\n",
    "# Calculate the retention rate for each cohort over time\n",
    "retention_rate = retention_table.divide(cohorts, axis=0) * 100\n",
    "\n",
    "# Display the retention rate table\n",
    "retention_rate"
   ]
  },
  {
   "cell_type": "code",
   "execution_count": 26,
   "id": "31beb47c",
   "metadata": {},
   "outputs": [
    {
     "name": "stdout",
     "output_type": "stream",
     "text": [
      "Lifetime Value (LTV) for Each Cohort:\n"
     ]
    },
    {
     "data": {
      "text/html": [
       "<div>\n",
       "<style scoped>\n",
       "    .dataframe tbody tr th:only-of-type {\n",
       "        vertical-align: middle;\n",
       "    }\n",
       "\n",
       "    .dataframe tbody tr th {\n",
       "        vertical-align: top;\n",
       "    }\n",
       "\n",
       "    .dataframe thead th {\n",
       "        text-align: right;\n",
       "    }\n",
       "</style>\n",
       "<table border=\"1\" class=\"dataframe\">\n",
       "  <thead>\n",
       "    <tr style=\"text-align: right;\">\n",
       "      <th></th>\n",
       "      <th>Month_Year</th>\n",
       "      <th>LTV</th>\n",
       "    </tr>\n",
       "  </thead>\n",
       "  <tbody>\n",
       "    <tr>\n",
       "      <th>0</th>\n",
       "      <td>2023-01</td>\n",
       "      <td>105.458502</td>\n",
       "    </tr>\n",
       "    <tr>\n",
       "      <th>1</th>\n",
       "      <td>2023-02</td>\n",
       "      <td>109.106444</td>\n",
       "    </tr>\n",
       "    <tr>\n",
       "      <th>2</th>\n",
       "      <td>2023-03</td>\n",
       "      <td>104.351801</td>\n",
       "    </tr>\n",
       "    <tr>\n",
       "      <th>3</th>\n",
       "      <td>2023-04</td>\n",
       "      <td>108.827047</td>\n",
       "    </tr>\n",
       "    <tr>\n",
       "      <th>4</th>\n",
       "      <td>2023-05</td>\n",
       "      <td>112.932808</td>\n",
       "    </tr>\n",
       "    <tr>\n",
       "      <th>5</th>\n",
       "      <td>2023-06</td>\n",
       "      <td>108.308615</td>\n",
       "    </tr>\n",
       "    <tr>\n",
       "      <th>6</th>\n",
       "      <td>2023-07</td>\n",
       "      <td>109.981519</td>\n",
       "    </tr>\n",
       "  </tbody>\n",
       "</table>\n",
       "</div>"
      ],
      "text/plain": [
       "  Month_Year         LTV\n",
       "0    2023-01  105.458502\n",
       "1    2023-02  109.106444\n",
       "2    2023-03  104.351801\n",
       "3    2023-04  108.827047\n",
       "4    2023-05  112.932808\n",
       "5    2023-06  108.308615\n",
       "6    2023-07  109.981519"
      ]
     },
     "execution_count": 26,
     "metadata": {},
     "output_type": "execute_result"
    }
   ],
   "source": [
    "# Calculate the total revenue generated by each cohort of customers over their entire lifetime\n",
    "cohorts_revenue = purchase_data_df.groupby(\"Month_Year\")[\"Transaction_Amount\"].sum()\n",
    "\n",
    "cohorts_customers = purchase_data_df.groupby(\"Month_Year\")[\"User_ID\"].nunique()\n",
    "\n",
    "# Calculate the average LTV for each cohort\n",
    "ltv_cohorts = pd.DataFrame((cohorts_revenue / cohorts_customers),columns={'LTV'}).reset_index()\n",
    "\n",
    "# Display the LTV for each cohort\n",
    "print(\"Lifetime Value (LTV) for Each Cohort:\")\n",
    "ltv_cohorts"
   ]
  },
  {
   "cell_type": "code",
   "execution_count": 27,
   "id": "52852fbd",
   "metadata": {},
   "outputs": [
    {
     "data": {
      "image/png": "[encoded data removed]",
      "text/plain": [
       "<Figure size 1200x600 with 1 Axes>"
      ]
     },
     "metadata": {},
     "output_type": "display_data"
    }
   ],
   "source": [
    "plt.figure(figsize=(12, 6))\n",
    "sns.pointplot(data=ltv_cohorts, x=\"Month_Year\", y=\"LTV\",color='purple',linestyles='--',markers='*')\n",
    "plt.xlabel(\"Cohort (Month-Year)\")\n",
    "plt.ylabel(\"Lifetime Value (LTV)\")\n",
    "plt.title(\"Lifetime Value (LTV) of Customers Acquired in Different Cohorts\")\n",
    "plt.grid(True)\n",
    "plt.show()"
   ]
  },
  {
   "cell_type": "markdown",
   "id": "7165a74c",
   "metadata": {},
   "source": [
    "### Website Performance Optimization:\n"
   ]
  },
  {
   "cell_type": "markdown",
   "id": "3ae92ce7",
   "metadata": {},
   "source": [
    "#### Analyze website performance metrics "
   ]
  },
  {
   "cell_type": "code",
   "execution_count": 33,
   "id": "7ded2aa5",
   "metadata": {},
   "outputs": [
    {
     "data": {
      "text/html": [
       "<div>\n",
       "<style scoped>\n",
       "    .dataframe tbody tr th:only-of-type {\n",
       "        vertical-align: middle;\n",
       "    }\n",
       "\n",
       "    .dataframe tbody tr th {\n",
       "        vertical-align: top;\n",
       "    }\n",
       "\n",
       "    .dataframe thead th {\n",
       "        text-align: right;\n",
       "    }\n",
       "</style>\n",
       "<table border=\"1\" class=\"dataframe\">\n",
       "  <thead>\n",
       "    <tr style=\"text-align: right;\">\n",
       "      <th></th>\n",
       "      <th>Month</th>\n",
       "      <th>Page_Load_Time</th>\n",
       "      <th>Bounce_Rate</th>\n",
       "      <th>Conversion_Rate</th>\n",
       "    </tr>\n",
       "  </thead>\n",
       "  <tbody>\n",
       "    <tr>\n",
       "      <th>0</th>\n",
       "      <td>2023-01-01</td>\n",
       "      <td>5.106652</td>\n",
       "      <td>0.514345</td>\n",
       "      <td>0.047375</td>\n",
       "    </tr>\n",
       "    <tr>\n",
       "      <th>1</th>\n",
       "      <td>2023-02-01</td>\n",
       "      <td>7.828199</td>\n",
       "      <td>0.317157</td>\n",
       "      <td>0.062764</td>\n",
       "    </tr>\n",
       "    <tr>\n",
       "      <th>2</th>\n",
       "      <td>2023-03-01</td>\n",
       "      <td>3.239983</td>\n",
       "      <td>0.480903</td>\n",
       "      <td>0.050514</td>\n",
       "    </tr>\n",
       "    <tr>\n",
       "      <th>3</th>\n",
       "      <td>2023-04-01</td>\n",
       "      <td>5.954509</td>\n",
       "      <td>0.473572</td>\n",
       "      <td>0.057151</td>\n",
       "    </tr>\n",
       "    <tr>\n",
       "      <th>4</th>\n",
       "      <td>2023-05-01</td>\n",
       "      <td>9.872398</td>\n",
       "      <td>0.542407</td>\n",
       "      <td>0.089525</td>\n",
       "    </tr>\n",
       "    <tr>\n",
       "      <th>5</th>\n",
       "      <td>2023-06-01</td>\n",
       "      <td>7.333456</td>\n",
       "      <td>0.440715</td>\n",
       "      <td>0.048687</td>\n",
       "    </tr>\n",
       "    <tr>\n",
       "      <th>6</th>\n",
       "      <td>2023-07-01</td>\n",
       "      <td>3.372264</td>\n",
       "      <td>0.390081</td>\n",
       "      <td>0.048440</td>\n",
       "    </tr>\n",
       "    <tr>\n",
       "      <th>7</th>\n",
       "      <td>2023-08-01</td>\n",
       "      <td>7.115272</td>\n",
       "      <td>0.489165</td>\n",
       "      <td>0.038263</td>\n",
       "    </tr>\n",
       "    <tr>\n",
       "      <th>8</th>\n",
       "      <td>2023-09-01</td>\n",
       "      <td>8.384957</td>\n",
       "      <td>0.301692</td>\n",
       "      <td>0.063365</td>\n",
       "    </tr>\n",
       "    <tr>\n",
       "      <th>9</th>\n",
       "      <td>2023-10-01</td>\n",
       "      <td>2.468395</td>\n",
       "      <td>0.566843</td>\n",
       "      <td>0.065971</td>\n",
       "    </tr>\n",
       "    <tr>\n",
       "      <th>10</th>\n",
       "      <td>2023-11-01</td>\n",
       "      <td>4.429745</td>\n",
       "      <td>0.526560</td>\n",
       "      <td>0.065786</td>\n",
       "    </tr>\n",
       "    <tr>\n",
       "      <th>11</th>\n",
       "      <td>2023-12-01</td>\n",
       "      <td>5.289363</td>\n",
       "      <td>0.388364</td>\n",
       "      <td>0.082828</td>\n",
       "    </tr>\n",
       "  </tbody>\n",
       "</table>\n",
       "</div>"
      ],
      "text/plain": [
       "        Month  Page_Load_Time  Bounce_Rate  Conversion_Rate\n",
       "0  2023-01-01        5.106652     0.514345         0.047375\n",
       "1  2023-02-01        7.828199     0.317157         0.062764\n",
       "2  2023-03-01        3.239983     0.480903         0.050514\n",
       "3  2023-04-01        5.954509     0.473572         0.057151\n",
       "4  2023-05-01        9.872398     0.542407         0.089525\n",
       "5  2023-06-01        7.333456     0.440715         0.048687\n",
       "6  2023-07-01        3.372264     0.390081         0.048440\n",
       "7  2023-08-01        7.115272     0.489165         0.038263\n",
       "8  2023-09-01        8.384957     0.301692         0.063365\n",
       "9  2023-10-01        2.468395     0.566843         0.065971\n",
       "10 2023-11-01        4.429745     0.526560         0.065786\n",
       "11 2023-12-01        5.289363     0.388364         0.082828"
      ]
     },
     "execution_count": 33,
     "metadata": {},
     "output_type": "execute_result"
    }
   ],
   "source": [
    "#Analyze website performance metrics to identify areas for improvement.\n",
    "website_performance_df[\"Month\"] = pd.to_datetime(website_performance_df[\"Month\"])\n",
    "website_performance_df"
   ]
  },
  {
   "cell_type": "code",
   "execution_count": 60,
   "id": "5072b87a",
   "metadata": {},
   "outputs": [
    {
     "name": "stdout",
     "output_type": "stream",
     "text": [
      "avg Page Load Time: 5.866266048900847\n",
      "high Page Load Time months:\n"
     ]
    },
    {
     "name": "stderr",
     "output_type": "stream",
     "text": [
      "C:\\Users\\Soumapriyo Mondal\\AppData\\Local\\Temp\\ipykernel_15240\\3319405551.py:3: SettingWithCopyWarning: \n",
      "A value is trying to be set on a copy of a slice from a DataFrame\n",
      "\n",
      "See the caveats in the documentation: https://pandas.pydata.org/pandas-docs/stable/user_guide/indexing.html#returning-a-view-versus-a-copy\n",
      "  high__Load_Time_months.sort_values(by=\"Page_Load_Time\", ascending=False,inplace=True)\n"
     ]
    },
    {
     "data": {
      "text/html": [
       "<div>\n",
       "<style scoped>\n",
       "    .dataframe tbody tr th:only-of-type {\n",
       "        vertical-align: middle;\n",
       "    }\n",
       "\n",
       "    .dataframe tbody tr th {\n",
       "        vertical-align: top;\n",
       "    }\n",
       "\n",
       "    .dataframe thead th {\n",
       "        text-align: right;\n",
       "    }\n",
       "</style>\n",
       "<table border=\"1\" class=\"dataframe\">\n",
       "  <thead>\n",
       "    <tr style=\"text-align: right;\">\n",
       "      <th></th>\n",
       "      <th>Month</th>\n",
       "      <th>Page_Load_Time</th>\n",
       "    </tr>\n",
       "  </thead>\n",
       "  <tbody>\n",
       "    <tr>\n",
       "      <th>4</th>\n",
       "      <td>2023-05-01</td>\n",
       "      <td>9.872398</td>\n",
       "    </tr>\n",
       "    <tr>\n",
       "      <th>8</th>\n",
       "      <td>2023-09-01</td>\n",
       "      <td>8.384957</td>\n",
       "    </tr>\n",
       "    <tr>\n",
       "      <th>1</th>\n",
       "      <td>2023-02-01</td>\n",
       "      <td>7.828199</td>\n",
       "    </tr>\n",
       "    <tr>\n",
       "      <th>5</th>\n",
       "      <td>2023-06-01</td>\n",
       "      <td>7.333456</td>\n",
       "    </tr>\n",
       "    <tr>\n",
       "      <th>7</th>\n",
       "      <td>2023-08-01</td>\n",
       "      <td>7.115272</td>\n",
       "    </tr>\n",
       "    <tr>\n",
       "      <th>3</th>\n",
       "      <td>2023-04-01</td>\n",
       "      <td>5.954509</td>\n",
       "    </tr>\n",
       "  </tbody>\n",
       "</table>\n",
       "</div>"
      ],
      "text/plain": [
       "        Month  Page_Load_Time\n",
       "4  2023-05-01        9.872398\n",
       "8  2023-09-01        8.384957\n",
       "1  2023-02-01        7.828199\n",
       "5  2023-06-01        7.333456\n",
       "7  2023-08-01        7.115272\n",
       "3  2023-04-01        5.954509"
      ]
     },
     "execution_count": 60,
     "metadata": {},
     "output_type": "execute_result"
    }
   ],
   "source": [
    "avg_Page_Load_Time = website_performance_df[\"Page_Load_Time\"].mean()\n",
    "high__Load_Time_months = website_performance_df[website_performance_df[\"Page_Load_Time\"] > avg_Page_Load_Time]\n",
    "high__Load_Time_months.sort_values(by=\"Page_Load_Time\", ascending=False,inplace=True)\n",
    "print('avg Page Load Time:',avg_Page_Load_Time)\n",
    "print('high Page Load Time months:')\n",
    "high__Load_Time_months.iloc[:,:2]"
   ]
  },
  {
   "cell_type": "code",
   "execution_count": 58,
   "id": "389fe446",
   "metadata": {},
   "outputs": [
    {
     "data": {
      "image/png": "[encoded data removed]",
      "text/plain": [
       "<Figure size 1000x500 with 1 Axes>"
      ]
     },
     "metadata": {},
     "output_type": "display_data"
    }
   ],
   "source": [
    "# Plot Page Load Time\n",
    "plt.figure(figsize=(10, 5))\n",
    "sns.lineplot(data=website_performance_df, x=\"Month\", y=\"Page_Load_Time\", marker=\"o\",color='red')\n",
    "plt.xlabel(\"Month\")\n",
    "plt.ylabel(\"Page Load Time\")\n",
    "plt.title(\"Website Page Load Time Over Time\")\n",
    "plt.xticks(rotation=45)\n",
    "plt.grid(True)\n",
    "plt.tight_layout()\n",
    "plt.show()"
   ]
  },
  {
   "cell_type": "code",
   "execution_count": 63,
   "id": "d992348d",
   "metadata": {},
   "outputs": [
    {
     "name": "stdout",
     "output_type": "stream",
     "text": [
      "avg bounce_rate: 0.4526503154628032\n",
      "high bounce_rate months:\n",
      "         Month  Bounce_Rate\n",
      "9   2023-10-01     0.566843\n",
      "4   2023-05-01     0.542407\n",
      "10  2023-11-01     0.526560\n",
      "0   2023-01-01     0.514345\n",
      "7   2023-08-01     0.489165\n",
      "2   2023-03-01     0.480903\n",
      "3   2023-04-01     0.473572\n",
      "\n",
      "avg bounce_rate: 0.06005589709726499\n",
      "high bounce_rate months:\n",
      "         Month  Conversion_Rate\n",
      "4   2023-05-01         0.089525\n",
      "11  2023-12-01         0.082828\n",
      "9   2023-10-01         0.065971\n",
      "10  2023-11-01         0.065786\n",
      "8   2023-09-01         0.063365\n",
      "1   2023-02-01         0.062764\n",
      "3   2023-04-01         0.057151\n",
      "2   2023-03-01         0.050514\n",
      "5   2023-06-01         0.048687\n",
      "6   2023-07-01         0.048440\n",
      "0   2023-01-01         0.047375\n",
      "7   2023-08-01         0.038263\n"
     ]
    },
    {
     "name": "stderr",
     "output_type": "stream",
     "text": [
      "C:\\Users\\Soumapriyo Mondal\\AppData\\Local\\Temp\\ipykernel_15240\\3409612321.py:3: SettingWithCopyWarning: \n",
      "A value is trying to be set on a copy of a slice from a DataFrame\n",
      "\n",
      "See the caveats in the documentation: https://pandas.pydata.org/pandas-docs/stable/user_guide/indexing.html#returning-a-view-versus-a-copy\n",
      "  high_bounce_months.sort_values(by=\"Bounce_Rate\", ascending=False,inplace=True)\n"
     ]
    }
   ],
   "source": [
    "avg_bounce_rate = website_performance_df[\"Bounce_Rate\"].mean()\n",
    "high_bounce_months = website_performance_df[website_performance_df[\"Bounce_Rate\"] > avg_bounce_rate]\n",
    "high_bounce_months.sort_values(by=\"Bounce_Rate\", ascending=False,inplace=True)\n",
    "print('avg bounce_rate:',avg_bounce_rate)\n",
    "print('high bounce_rate months:')\n",
    "print(high_bounce_months[['Month','Bounce_Rate']])\n",
    "print()\n",
    "# Analyze Conversion Rate\n",
    "avg_conversion_rate = website_performance_df[\"Conversion_Rate\"].mean()\n",
    "conversion_change_months = website_performance_df[website_performance_df[\"Conversion_Rate\"] != avg_conversion_rate]\n",
    "conversion_change_months.sort_values(by=\"Conversion_Rate\", ascending=False,inplace=True)\n",
    "print('avg bounce_rate:',avg_conversion_rate)\n",
    "print('high bounce_rate months:')\n",
    "print(conversion_change_months[['Month','Conversion_Rate']])"
   ]
  },
  {
   "cell_type": "code",
   "execution_count": 51,
   "id": "9022f344",
   "metadata": {},
   "outputs": [
    {
     "data": {
      "image/png": "[encoded data removed]",
      "text/plain": [
       "<Figure size 1000x600 with 1 Axes>"
      ]
     },
     "metadata": {},
     "output_type": "display_data"
    }
   ],
   "source": [
    "plt.figure(figsize=(10, 6))\n",
    "# Plot Bounce Rate\n",
    "plt.plot(website_performance_df[\"Month\"], website_performance_df[\"Bounce_Rate\"], marker=\"o\", label=\"Bounce Rate\", color=\"orange\")\n",
    "\n",
    "# Plot Conversion Rate\n",
    "plt.plot(website_performance_df[\"Month\"], website_performance_df[\"Conversion_Rate\"], marker=\"o\", label=\"Conversion Rate\", color=\"green\")\n",
    "\n",
    "plt.xlabel(\"Month\")\n",
    "plt.ylabel(\"Performance Metrics\")\n",
    "plt.title(\"Website Performance Metrics Over Time\")\n",
    "plt.xticks(rotation=45)\n",
    "plt.grid(True)\n",
    "plt.legend()\n",
    "plt.tight_layout()\n",
    "plt.show()"
   ]
  },
  {
   "cell_type": "code",
   "execution_count": 34,
   "id": "6b70c565",
   "metadata": {},
   "outputs": [
    {
     "name": "stderr",
     "output_type": "stream",
     "text": [
      "C:\\Users\\Soumapriyo Mondal\\AppData\\Local\\Temp\\ipykernel_15240\\3470406211.py:2: DeprecationWarning: `import pandas_profiling` is going to be deprecated by April 1st. Please use `import ydata_profiling` instead.\n",
      "  import pandas_profiling\n"
     ]
    },
    {
     "data": {
      "application/vnd.jupyter.widget-view+json": {
       "model_id": "5d484ef2aae24c9cac8afc24533a7b23",
       "version_major": 2,
       "version_minor": 0
      },
      "text/plain": [
       "Summarize dataset:   0%|          | 0/5 [00:00<?, ?it/s]"
      ]
     },
     "metadata": {},
     "output_type": "display_data"
    },
    {
     "data": {
      "application/vnd.jupyter.widget-view+json": {
       "model_id": "7c821f1b478c4ab2b678355aaaf7ab3d",
       "version_major": 2,
       "version_minor": 0
      },
      "text/plain": [
       "Generate report structure:   0%|          | 0/1 [00:00<?, ?it/s]"
      ]
     },
     "metadata": {},
     "output_type": "display_data"
    },
    {
     "data": {
      "application/vnd.jupyter.widget-view+json": {
       "model_id": "d0d8b84842894536926da55c5dc75c2d",
       "version_major": 2,
       "version_minor": 0
      },
      "text/plain": [
       "Render HTML:   0%|          | 0/1 [00:00<?, ?it/s]"
      ]
     },
     "metadata": {},
     "output_type": "display_data"
    },
    {
     "data": {
      "application/vnd.jupyter.widget-view+json": {
       "model_id": "47dc36898a7948e9a0d14719aafa6117",
       "version_major": 2,
       "version_minor": 0
      },
      "text/plain": [
       "Export report to file:   0%|          | 0/1 [00:00<?, ?it/s]"
      ]
     },
     "metadata": {},
     "output_type": "display_data"
    }
   ],
   "source": [
    "import pandas as pd\n",
    "import pandas_profiling\n",
    "\n",
    "# Load the website performance data\n",
    "website_performance_df = pd.read_csv(\"website_performance.csv\")\n",
    "\n",
    "# Generate the Pandas Profiling report\n",
    "report = pandas_profiling.ProfileReport(website_performance_df)\n",
    "\n",
    "# Save the report as an HTML file\n",
    "report.to_file(\"website_performance_report.html\")"
   ]
  },
  {
   "cell_type": "markdown",
   "id": "5af9e06e",
   "metadata": {},
   "source": [
    "Areas for improvement:\n",
    "High Page Load Time Months: Some months have higher page load times, indicating a need for optimizing website elements, compressing images, leveraging caching, and improving server response time to enhance user experience.\n",
    "\n",
    "High Bounce Rate Months: Certain months have higher bounce rates, which suggests visitors are leaving the website without further engagement. To address this, we should focus on improving website content, user experience, and page load speed.\n",
    "\n",
    "Low Conversion Rate Months: Some months have lower conversion rates, indicating a need to optimize call-to-action elements, checkout processes (if applicable), and offer incentives to encourage conversions.\n",
    "\n",
    "To address these issues and continuously monitor performance, we can implement strategies such as real-time monitoring dashboards, A/B testing, mobile optimization, user feedback collection, website analytics analysis, content relevance improvement, load testing, and data-driven decision-making to enhance user experience, reduce bounce rates, and improve conversion rates."
   ]
  },
  {
   "cell_type": "markdown",
   "id": "82d200e5",
   "metadata": {},
   "source": [
    "Some startegies you should follow to reduce bounce rate and improve the conversion rate.\n",
    "\n",
    "Improve Website Speed: Optimize loading times to ensure pages load quickly and keep visitors engaged.Optimize page load time by compressing images, minimizing HTTP requests, and leveraging caching techniques to provide a seamless and fast user experience.\n",
    "\n",
    "Enhance User Experience: Create an intuitive and visually appealing interface to make navigation seamless and enjoyable.\n",
    "\n",
    "Compelling Content: Provide valuable and relevant content to capture visitors' interest and encourage them to explore further.\n",
    "\n",
    "Personalization: Implement personalized recommendations based on user behavior to increase engagement.\n",
    "\n",
    "Analyze and Adapt: Continuously monitor website performance and user feedback to make data-driven improvements over time.\n"
   ]
  },
  {
   "cell_type": "markdown",
   "id": "f73e82b9",
   "metadata": {},
   "source": [
    "I have created a dashboard to see the data to Analyze and Adapt\n",
    "attached website_performance_report.html"
   ]
  }
 ],
 "metadata": {
  "kernelspec": {
   "display_name": "Python 3 (ipykernel)",
   "language": "python",
   "name": "python3"
  },
  "language_info": {
   "codemirror_mode": {
    "name": "ipython",
    "version": 3
   },
   "file_extension": ".py",
   "mimetype": "text/x-python",
   "name": "python",
   "nbconvert_exporter": "python",
   "pygments_lexer": "ipython3",
   "version": "3.9.13"
  },
  "varInspector": {
   "cols": {
    "lenName": 16,
    "lenType": 16,
    "lenVar": 40
   },
   "kernels_config": {
    "python": {
     "delete_cmd_postfix": "",
     "delete_cmd_prefix": "del ",
     "library": "var_list.py",
     "varRefreshCmd": "print(var_dic_list())"
    },
    "r": {
     "delete_cmd_postfix": ") ",
     "delete_cmd_prefix": "rm(",
     "library": "var_list.r",
     "varRefreshCmd": "cat(var_dic_list()) "
    }
   },
   "types_to_exclude": [
    "module",
    "function",
    "builtin_function_or_method",
    "instance",
    "_Feature"
   ],
   "window_display": false
  }
 },
 "nbformat": 4,
 "nbformat_minor": 5
}
